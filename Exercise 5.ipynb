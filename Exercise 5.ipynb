{
 "cells": [
  {
   "cell_type": "code",
   "execution_count": 1,
   "metadata": {},
   "outputs": [],
   "source": [
    "%matplotlib inline"
   ]
  },
  {
   "cell_type": "markdown",
   "metadata": {},
   "source": [
    "# Exercise 5\n",
    "\n",
    "Actually, if it is raining, I hardly ever bike.  Adjust the model so that there is a 10% chance of rain on any given day, and when it rains, there is a 0.1% chance of me biking (`takes_bike`), but a 20% chance of biking (`takes_bike`) when it isn't raining.  The `pm.Binomial` distribution will be useful, as will theano's `tt.switch` function.\n",
    "\n",
    "What is the average `total_time` now?"
   ]
  },
  {
   "cell_type": "code",
   "execution_count": 2,
   "metadata": {},
   "outputs": [],
   "source": [
    "import pymc3 as pm\n",
    "from sampled import sampled\n",
    "import theano.tensor as tt"
   ]
  },
  {
   "cell_type": "code",
   "execution_count": 3,
   "metadata": {},
   "outputs": [],
   "source": [
    "@sampled\n",
    "def commute():\n",
    "    train_time = pm.SkewNormal('train_time', mu=40., sd=10., alpha=15.)\n",
    "    takes_bike = pm.Binomial('takes_bike', n=1, p=0.1)\n",
    "    bike_time = pm.Normal('bike_time', mu=20., sd=3.)\n",
    "    walk_time = pm.Normal('walk_time', mu=5., sd=1.)\n",
    "    t_time = pm.SkewNormal('t_time', mu=15., sd=5., alpha=4.)\n",
    "    total_time = pm.Normal('total_time', \n",
    "                           mu=train_time + tt.switch(takes_bike, bike_time, walk_time+t_time), \n",
    "                           sd=1)"
   ]
  }
 ],
 "metadata": {
  "kernelspec": {
   "display_name": "pydata_nyc20173.6",
   "language": "python",
   "name": "pydata_nyc20173_6"
  },
  "language_info": {
   "codemirror_mode": {
    "name": "ipython",
    "version": 3
   },
   "file_extension": ".py",
   "mimetype": "text/x-python",
   "name": "python",
   "nbconvert_exporter": "python",
   "pygments_lexer": "ipython3",
   "version": "3.6.3"
  }
 },
 "nbformat": 4,
 "nbformat_minor": 2
}
