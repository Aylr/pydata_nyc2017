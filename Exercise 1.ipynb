{
 "cells": [
  {
   "cell_type": "code",
   "execution_count": 1,
   "metadata": {},
   "outputs": [],
   "source": [
    "%matplotlib inline"
   ]
  },
  {
   "cell_type": "markdown",
   "metadata": {},
   "source": [
    "# Exercise 1\n",
    "\n",
    "You can fit the length of the day reasonably well with a sine curve.  The file `day_length.csv` has two years of day length data for Times Square (collected using `astropy` and `astroplan`).  You will want to fit the data using the formula\n",
    "\n",
    "$$\n",
    "\\text{length_of_day} = A \\sin\\left(\\frac{2\\pi}{365} (\\text{day_of_year} - 81) \\right) + B\n",
    "$$\n",
    "\n",
    "Notice this is a 1-d linear model, with your feature being that sine term!\n",
    "\n",
    "1. Read the data with `pd.read_csv`, and plot the `length_of_day` column using `plt.plot`.\n",
    "2. Create a 730 x 1 `features` matrix using the above formula.\n",
    "3. Use `LinearRegression` to fit the above model.  Find `A` (`.coef_`) and `B` (`.intercept_`)\n",
    "4. Plot your prediction along with the actual data.\n",
    "5. (bonus) Why might the model be a little wrong?\n",
    "6. (bonus) Can you engineer a better feature?"
   ]
  },
  {
   "cell_type": "code",
   "execution_count": 3,
   "metadata": {},
   "outputs": [],
   "source": [
    "import numpy as np\n",
    "import matplotlib.pyplot as plt\n",
    "import pandas as pd\n",
    "from sklearn.linear_model import LinearRegression"
   ]
  },
  {
   "cell_type": "code",
   "execution_count": null,
   "metadata": {},
   "outputs": [],
   "source": []
  }
 ],
 "metadata": {
  "kernelspec": {
   "display_name": "pydata_nyc20173.6",
   "language": "python",
   "name": "pydata_nyc20173_6"
  },
  "language_info": {
   "codemirror_mode": {
    "name": "ipython",
    "version": 3
   },
   "file_extension": ".py",
   "mimetype": "text/x-python",
   "name": "python",
   "nbconvert_exporter": "python",
   "pygments_lexer": "ipython3",
   "version": "3.6.3"
  }
 },
 "nbformat": 4,
 "nbformat_minor": 2
}
