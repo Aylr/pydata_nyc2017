{
 "cells": [
  {
   "cell_type": "markdown",
   "metadata": {},
   "source": [
    "# \"Linear and Logistic Regression: Still Making 80% of the World's Decisions\"\n",
    "<center><img src=\"images/linear_talk.png\" style=\"height: 500px;\"></img></center>"
   ]
  }
 ],
 "metadata": {
  "kernelspec": {
   "display_name": "pydata_nyc20173.6",
   "language": "python",
   "name": "pydata_nyc20173_6"
  },
  "language_info": {
   "codemirror_mode": {
    "name": "ipython",
    "version": 3
   },
   "file_extension": ".py",
   "mimetype": "text/x-python",
   "name": "python",
   "nbconvert_exporter": "python",
   "pygments_lexer": "ipython3",
   "version": "3.6.3"
  }
 },
 "nbformat": 4,
 "nbformat_minor": 2
}
