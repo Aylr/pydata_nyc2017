{
 "cells": [
  {
   "cell_type": "code",
   "execution_count": 1,
   "metadata": {},
   "outputs": [],
   "source": [
    "%matplotlib inline"
   ]
  },
  {
   "cell_type": "markdown",
   "metadata": {},
   "source": [
    "# Exercise 4\n",
    "\n",
    "Multiple observations may be used in models.  What proportion of days where I am 5 minutes late (`total_time=65`) *and* rode my bike (`takes_bike=1`) does the train take more than 45 minutes (`train_time`)?"
   ]
  },
  {
   "cell_type": "code",
   "execution_count": 2,
   "metadata": {},
   "outputs": [],
   "source": [
    "import pymc3 as pm\n",
    "from sampled import sampled\n",
    "import theano.tensor as tt"
   ]
  },
  {
   "cell_type": "code",
   "execution_count": 3,
   "metadata": {},
   "outputs": [],
   "source": [
    "@sampled\n",
    "def commute():\n",
    "    train_time = pm.SkewNormal('train_time', mu=40., sd=10., alpha=15.)\n",
    "    takes_bike = pm.Binomial('takes_bike', n=1, p=0.1)\n",
    "    bike_time = pm.Normal('bike_time', mu=20., sd=3.)\n",
    "    walk_time = pm.Normal('walk_time', mu=5., sd=1.)\n",
    "    t_time = pm.SkewNormal('t_time', mu=15., sd=5., alpha=4.)\n",
    "    total_time = pm.Normal('total_time', \n",
    "                           mu=train_time + tt.switch(takes_bike, bike_time, walk_time+t_time), \n",
    "                           sd=1)"
   ]
  },
  {
   "cell_type": "code",
   "execution_count": 4,
   "metadata": {},
   "outputs": [
    {
     "name": "stderr",
     "output_type": "stream",
     "text": [
      "Assigned NUTS to train_time\n",
      "Assigned Metropolis to takes_bike\n",
      "Assigned NUTS to bike_time\n",
      "Assigned NUTS to walk_time\n",
      "Assigned NUTS to t_time\n",
      "Assigned NUTS to total_time\n",
      "100%|█████████▉| 995/1000 [00:05<00:00, 171.19it/s]/Users/colin/anaconda3/envs/pydata_nyc20173.6/lib/python3.6/site-packages/pymc3/step_methods/hmc/nuts.py:451: UserWarning: The acceptance probability in chain 0 does not match the target. It is 0.880691098817, but should be close to 0.8. Try to increase the number of tuning steps.\n",
      "  % (self._chain_id, mean_accept, target_accept))\n",
      "100%|██████████| 1000/1000 [00:05<00:00, 170.98it/s]\n"
     ]
    }
   ],
   "source": [
    "with commute():\n",
    "    test = pm.sample()"
   ]
  },
  {
   "cell_type": "code",
   "execution_count": null,
   "metadata": {},
   "outputs": [],
   "source": []
  }
 ],
 "metadata": {
  "kernelspec": {
   "display_name": "pydata_nyc20173.6",
   "language": "python",
   "name": "pydata_nyc20173_6"
  },
  "language_info": {
   "codemirror_mode": {
    "name": "ipython",
    "version": 3
   },
   "file_extension": ".py",
   "mimetype": "text/x-python",
   "name": "python",
   "nbconvert_exporter": "python",
   "pygments_lexer": "ipython3",
   "version": "3.6.3"
  }
 },
 "nbformat": 4,
 "nbformat_minor": 2
}
