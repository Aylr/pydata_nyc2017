{
 "cells": [
  {
   "cell_type": "code",
   "execution_count": 1,
   "metadata": {},
   "outputs": [],
   "source": [
    "%matplotlib inline"
   ]
  },
  {
   "cell_type": "markdown",
   "metadata": {},
   "source": [
    "# Exercise 6\n",
    "\n",
    "We are making some pretty wild claims about model fitting.  We expect about 68% of normally distributed data to lie within 1 standard deviation of the mean.  Confirm that this is true!  I have replicated the model from the presentation below.\n",
    "\n",
    "1. Compute your predictions using the trace (should be `100 x 4000`)\n",
    "2. Compute the absolute residuals (absolute value of `predictions` minus `noisy_y`)\n",
    "3. Calculate the proportion of those that are less than `trace[σ]`"
   ]
  },
  {
   "cell_type": "code",
   "execution_count": 2,
   "metadata": {},
   "outputs": [],
   "source": [
    "import numpy as np\n",
    "import pymc3 as pm\n",
    "import theano.tensor as tt\n",
    "\n",
    "import utils"
   ]
  },
  {
   "cell_type": "code",
   "execution_count": 3,
   "metadata": {},
   "outputs": [
    {
     "name": "stderr",
     "output_type": "stream",
     "text": [
      "Auto-assigning NUTS sampler...\n",
      "Initializing NUTS using jitter+adapt_diag...\n",
      "100%|██████████| 2500/2500 [00:05<00:00, 498.82it/s]\n",
      "/Users/colin/projects/pymc3/pymc3/step_methods/hmc/nuts.py:452: UserWarning: The acceptance probability in chain 1 does not match the target. It is 0.892020900806, but should be close to 0.8. Try to increase the number of tuning steps.\n",
      "  % (self._chain_id, mean_accept, target_accept))\n"
     ]
    }
   ],
   "source": [
    "x, y, X, transform, scale = utils.get_base_data()\n",
    "noise = utils.get_noise()\n",
    "\n",
    "noisy_y = y + noise\n",
    "\n",
    "with pm.Model() as model:\n",
    "    w = pm.Flat('w', shape=X.shape[1])\n",
    "    σ = pm.HalfCauchy('σ', beta=10.)\n",
    "    y_obs = pm.Normal('y', mu=tt.dot(X, w), sd=σ, observed=noisy_y.squeeze())\n",
    "    trace = pm.sample(2000)"
   ]
  }
 ],
 "metadata": {
  "kernelspec": {
   "display_name": "pydata_nyc20173.6",
   "language": "python",
   "name": "pydata_nyc20173_6"
  },
  "language_info": {
   "codemirror_mode": {
    "name": "ipython",
    "version": 3
   },
   "file_extension": ".py",
   "mimetype": "text/x-python",
   "name": "python",
   "nbconvert_exporter": "python",
   "pygments_lexer": "ipython3",
   "version": "3.6.3"
  }
 },
 "nbformat": 4,
 "nbformat_minor": 2
}
